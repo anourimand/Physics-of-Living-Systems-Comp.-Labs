{
  "nbformat": 4,
  "nbformat_minor": 0,
  "metadata": {
    "colab": {
      "name": "PHY231 Lab 5 Radioactivity",
      "provenance": [],
      "collapsed_sections": []
    },
    "kernelspec": {
      "name": "python3",
      "display_name": "Python 3"
    }
  },
  "cells": [
    {
      "cell_type": "markdown",
      "metadata": {
        "id": "vuWKdiSrTC4o",
        "colab_type": "text"
      },
      "source": [
        "# **Arash Nourimand, 1002069851**"
      ]
    },
    {
      "cell_type": "markdown",
      "metadata": {
        "id": "4cGwc98kEEoQ",
        "colab_type": "text"
      },
      "source": [
        "### **Getting and Cleaning the Data** "
      ]
    },
    {
      "cell_type": "code",
      "metadata": {
        "id": "vpqm68BlggAW",
        "colab_type": "code",
        "outputId": "b86eed59-89cd-483b-b815-7f2e49de232a",
        "colab": {
          "base_uri": "https://localhost:8080/",
          "height": 121
        }
      },
      "source": [
        "#Mount google drive to be able to access the text data\n",
        "from google.colab import drive\n",
        "drive.mount('/content/drive')"
      ],
      "execution_count": 0,
      "outputs": [
        {
          "output_type": "stream",
          "text": [
            "Go to this URL in a browser: https://accounts.google.com/o/oauth2/auth?client_id=947318989803-6bn6qk8qdgf4n4g3pfee6491hc0brc4i.apps.googleusercontent.com&redirect_uri=urn%3aietf%3awg%3aoauth%3a2.0%3aoob&response_type=code&scope=email%20https%3a%2f%2fwww.googleapis.com%2fauth%2fdocs.test%20https%3a%2f%2fwww.googleapis.com%2fauth%2fdrive%20https%3a%2f%2fwww.googleapis.com%2fauth%2fdrive.photos.readonly%20https%3a%2f%2fwww.googleapis.com%2fauth%2fpeopleapi.readonly\n",
            "\n",
            "Enter your authorization code:\n",
            "··········\n",
            "Mounted at /content/drive\n"
          ],
          "name": "stdout"
        }
      ]
    },
    {
      "cell_type": "code",
      "metadata": {
        "id": "i6u8MCHZgr0P",
        "colab_type": "code",
        "colab": {}
      },
      "source": [
        "#declare the directories\n",
        "rad_background_dir = '/content/drive/My Drive/Colab Notebooks/Physics Labs/RadioactiveDecay_TuesdayOct2_2018_background.txt'\n",
        "rad_data_dir = '/content/drive/My Drive/Colab Notebooks/Physics Labs/RadioactiveDecay_TuesdayOct2_2018_decay.txt'"
      ],
      "execution_count": 0,
      "outputs": []
    },
    {
      "cell_type": "code",
      "metadata": {
        "id": "jJx_H35Pg6Xo",
        "colab_type": "code",
        "outputId": "a640fe27-8e8f-4a1e-da50-7be0fe849f74",
        "colab": {
          "base_uri": "https://localhost:8080/",
          "height": 470
        }
      },
      "source": [
        "#import libraries to process the data file\n",
        "import pandas as pd\n",
        "import numpy as np\n",
        "import matplotlib.pyplot as plt\n",
        "\n",
        "#process the .txt files from the directories into pandas dataframes for easier analysis\n",
        "background = pd.read_csv(rad_background_dir, sep=\" \", header=None)\n",
        "rad_data = pd.read_csv(rad_data_dir, sep=\" \", header=None)\n",
        "\n",
        "#view the data\n",
        "print(rad_data, background)"
      ],
      "execution_count": 0,
      "outputs": [
        {
          "output_type": "stream",
          "text": [
            "          0               1      2           3    4    5       6     7    8\n",
            "0       NaN     Radioactive  Decay  Experiment  Oct   2,  2018.0  1:37   PM\n",
            "1    Sample  Number\\tNumber     of      Counts  NaN  NaN     NaN   NaN  NaN\n",
            "2   1\\t2229             NaN    NaN         NaN  NaN  NaN     NaN   NaN  NaN\n",
            "3   2\\t2065             NaN    NaN         NaN  NaN  NaN     NaN   NaN  NaN\n",
            "4   3\\t1871             NaN    NaN         NaN  NaN  NaN     NaN   NaN  NaN\n",
            "..      ...             ...    ...         ...  ...  ...     ...   ...  ...\n",
            "57   56\\t26             NaN    NaN         NaN  NaN  NaN     NaN   NaN  NaN\n",
            "58   57\\t18             NaN    NaN         NaN  NaN  NaN     NaN   NaN  NaN\n",
            "59   58\\t16             NaN    NaN         NaN  NaN  NaN     NaN   NaN  NaN\n",
            "60   59\\t18             NaN    NaN         NaN  NaN  NaN     NaN   NaN  NaN\n",
            "61   60\\t18             NaN    NaN         NaN  NaN  NaN     NaN   NaN  NaN\n",
            "\n",
            "[62 rows x 9 columns]          0               1      2           3    4    5       6     7    8\n",
            "0      NaN     Radioactive  Decay  Experiment  Oct   2,  2018.0  1:07   PM\n",
            "1   Sample  Number\\tNumber     of      Counts  NaN  NaN     NaN   NaN  NaN\n",
            "2     1\\t4             NaN    NaN         NaN  NaN  NaN     NaN   NaN  NaN\n",
            "3     2\\t6             NaN    NaN         NaN  NaN  NaN     NaN   NaN  NaN\n",
            "4     3\\t5             NaN    NaN         NaN  NaN  NaN     NaN   NaN  NaN\n",
            "..     ...             ...    ...         ...  ...  ...     ...   ...  ...\n",
            "57   56\\t2             NaN    NaN         NaN  NaN  NaN     NaN   NaN  NaN\n",
            "58   57\\t2             NaN    NaN         NaN  NaN  NaN     NaN   NaN  NaN\n",
            "59   58\\t2             NaN    NaN         NaN  NaN  NaN     NaN   NaN  NaN\n",
            "60   59\\t5             NaN    NaN         NaN  NaN  NaN     NaN   NaN  NaN\n",
            "61   60\\t3             NaN    NaN         NaN  NaN  NaN     NaN   NaN  NaN\n",
            "\n",
            "[62 rows x 9 columns]\n"
          ],
          "name": "stdout"
        }
      ]
    },
    {
      "cell_type": "markdown",
      "metadata": {
        "id": "k-IFxMwpES1b",
        "colab_type": "text"
      },
      "source": [
        "### **Making Data Useful**"
      ]
    },
    {
      "cell_type": "code",
      "metadata": {
        "id": "pZrvcWn0ic3E",
        "colab_type": "code",
        "colab": {}
      },
      "source": [
        "#data above has formatting issues; need to adjust the file\n",
        "rad_data = rad_data.drop([0,1])\n",
        "rad_data = rad_data.drop([1,2,3,4,5,6,7,8], axis=1)\n",
        "rad_data = rad_data[0].str.split(\"\\t\")\n",
        "rad_data_list = rad_data.to_list()\n",
        "col_index = ['Sample Number','Number of Counts']\n",
        "\n",
        "rad_data_final = pd.DataFrame(rad_data_list, columns=col_index)"
      ],
      "execution_count": 0,
      "outputs": []
    },
    {
      "cell_type": "code",
      "metadata": {
        "id": "C3BNiDDemcCD",
        "colab_type": "code",
        "colab": {}
      },
      "source": [
        "#the data above is formatted properly; do the same to the background data\n",
        "background = background.drop([0,1])\n",
        "background = background.drop([1,2,3,4,5,6,7,8], axis=1)\n",
        "background = background[0].str.split(\"\\t\")\n",
        "background_list = background.to_list()\n",
        "\n",
        "background_final = pd.DataFrame(background_list, columns=col_index)\n"
      ],
      "execution_count": 0,
      "outputs": []
    },
    {
      "cell_type": "code",
      "metadata": {
        "id": "F8SFlK9kqAN4",
        "colab_type": "code",
        "colab": {}
      },
      "source": [
        "concat_data = pd.concat([background_final['Number of Counts'],rad_data_final['Number of Counts']],axis=1)"
      ],
      "execution_count": 0,
      "outputs": []
    },
    {
      "cell_type": "code",
      "metadata": {
        "id": "TIM6AbH9rh4z",
        "colab_type": "code",
        "colab": {}
      },
      "source": [
        "#data is not numeric - turn datapoints to integers as opposed to current string type\n",
        "concat_data['Number of Counts'] = concat_data['Number of Counts'].astype(int)\n",
        "concat_data.columns = ['Number of Counts (background)', 'Number of Counts (radiation)']"
      ],
      "execution_count": 0,
      "outputs": []
    },
    {
      "cell_type": "code",
      "metadata": {
        "id": "hxusB27VvYUp",
        "colab_type": "code",
        "outputId": "fcdb1df7-fbae-4ee1-cfa4-af520e9cac2e",
        "colab": {
          "base_uri": "https://localhost:8080/",
          "height": 282
        }
      },
      "source": [
        "concat_data.plot()\n",
        "\n",
        "#show the trends of the radiation data"
      ],
      "execution_count": 0,
      "outputs": [
        {
          "output_type": "execute_result",
          "data": {
            "text/plain": [
              "<matplotlib.axes._subplots.AxesSubplot at 0x7f1c7f62dda0>"
            ]
          },
          "metadata": {
            "tags": []
          },
          "execution_count": 99
        },
        {
          "output_type": "display_data",
          "data": {
            "image/png": "[encoded data removed]",
            "text/plain": [
              "<Figure size 432x288 with 1 Axes>"
            ]
          },
          "metadata": {
            "tags": []
          }
        }
      ]
    },
    {
      "cell_type": "markdown",
      "metadata": {
        "id": "LHwXNsViFVFe",
        "colab_type": "text"
      },
      "source": [
        "### **Data Analysis of the Barium Radioactivity Data**"
      ]
    },
    {
      "cell_type": "code",
      "metadata": {
        "id": "Ya9MqE8FFZWu",
        "colab_type": "code",
        "colab": {}
      },
      "source": [
        "# Get the mean background Geiger Count -Nb- , and subtract from the radiation data\n",
        "Nb = concat_data['Number of Counts (background)'].mean()\n",
        "mod_bar_data = concat_data['Number of Counts (radiation)']-Nb \n",
        "\n",
        "#Uncertainty is calculated from the standard error propagation - sigf = sqrt(Nf-Nb)  -Eq9- --> this is a column\n",
        "uncertainty = np.sqrt(concat_data['Number of Counts (radiation)']+concat_data['Number of Counts (background)'])"
      ],
      "execution_count": 0,
      "outputs": []
    },
    {
      "cell_type": "code",
      "metadata": {
        "id": "zIAc5rWsIz0W",
        "colab_type": "code",
        "outputId": "7355d531-d6c6-4329-f05a-d0109e2242c4",
        "colab": {
          "base_uri": "https://localhost:8080/",
          "height": 292
        }
      },
      "source": [
        "#Generate the log graph of the modified Barium data (not-logged)\n",
        "plt.plot(rad_data_final['Sample Number'], mod_bar_data)\n",
        "plt.yscale('log')\n",
        "plt.title('Barium Decay Data Semi-Log Graph', fontsize=8)\n",
        "plt.ylabel('Number of Counts')\n",
        "plt.xlabel('Time')\n",
        "plt.xticks(np.arange(-1,61,step=5));"
      ],
      "execution_count": 0,
      "outputs": [
        {
          "output_type": "display_data",
          "data": {
            "image/png": "[encoded data removed]",
            "text/plain": [
              "<Figure size 432x288 with 1 Axes>"
            ]
          },
          "metadata": {
            "tags": []
          }
        }
      ]
    },
    {
      "cell_type": "code",
      "metadata": {
        "id": "N62IEVusN6bp",
        "colab_type": "code",
        "outputId": "6a8ea53b-0f89-4ef0-b844-82a34d48121f",
        "colab": {
          "base_uri": "https://localhost:8080/",
          "height": 342
        }
      },
      "source": [
        "#Gather the y-intercept and slope data (b and m, respectively) of the semi-log curve\n",
        "#Make arrays\n",
        "bar_data_list = np.asarray(mod_ces_data.to_list()).astype(float)\n",
        "samp_num= np.asarray(rad_data_final['Sample Number'].to_list()).astype(int)\n",
        "log_bar_data = np.log(ces_data_list).astype(float) #take logarithm of the Barium decay data\n",
        "\n",
        "#Plot Barium Logarithm\n",
        "plt.plot(samp_num,log_bar_data,'ro')\n",
        "plt.title('Log of Barium Decay Data Graph', fontsize=8)\n",
        "plt.ylabel('log(Number of Counts)')\n",
        "plt.xlabel('Time')\n",
        "plt.xticks(np.arange(0,61,step=5));\n",
        "\n",
        "#Generate the Equations\n",
        "coefs = np.polyfit(samp_num,log_ces_data,1) #generate the m and b values of the curve\n",
        "poly1d = np.poly1d(coefs) #Function which approximates a log(y) value by intaking x\n",
        "print('The slope (m) and y-intercept (b) of the curve are %f and %f, respectively\\n' %(coefs[0],coefs[1]))\n",
        "\n",
        "plt.plot(samp_num,poly1d(samp_num),'b')\n",
        "\n",
        "#The graph shows that the gathering of data was correct\n",
        "#rad_data_final['Sample Number']"
      ],
      "execution_count": 0,
      "outputs": [
        {
          "output_type": "stream",
          "text": [
            "The slope (m) and y-intercept (b) of the curve are -0.087989 and 7.826352, respectively\n",
            "\n"
          ],
          "name": "stdout"
        },
        {
          "output_type": "execute_result",
          "data": {
            "text/plain": [
              "[<matplotlib.lines.Line2D at 0x7f1c7f6634a8>]"
            ]
          },
          "metadata": {
            "tags": []
          },
          "execution_count": 102
        },
        {
          "output_type": "display_data",
          "data": {
            "image/png": "[encoded data removed]",
            "text/plain": [
              "<Figure size 432x288 with 1 Axes>"
            ]
          },
          "metadata": {
            "tags": []
          }
        }
      ]
    },
    {
      "cell_type": "code",
      "metadata": {
        "id": "hSqdwt-bQ2T1",
        "colab_type": "code",
        "outputId": "e80705f2-111e-4857-f1c7-87119a74bedb",
        "colab": {
          "base_uri": "https://localhost:8080/",
          "height": 34
        }
      },
      "source": [
        "#Since based on the halflife equation, I(t)=Io*e^(-t/tau), and the linear regression above, resolved into log(y)=at+log(yo)\n",
        "# (-1/tau = a). Therefore, a can be used to find tau and thus approximate the half life\n",
        "\n",
        "import math\n",
        "\n",
        "tau = (-1/coefs[0]) #the tau value\n",
        "half_life = tau*math.log(2)\n",
        "print('The halflife of Barium is ~ %f' %half_life )"
      ],
      "execution_count": 0,
      "outputs": [
        {
          "output_type": "stream",
          "text": [
            "The halflife of Barium is ~ 7.877698\n"
          ],
          "name": "stdout"
        }
      ]
    },
    {
      "cell_type": "code",
      "metadata": {
        "id": "cRR4FCskSHl5",
        "colab_type": "code",
        "colab": {}
      },
      "source": [
        "#Looking at the raw data above, at sample number 0 (i.e. time = 0), the count was 2229\n",
        "#Similarly, looking at sample 8 (i.e. time = 8), the count was 1174, or approximately 52.7% of the initial"
      ],
      "execution_count": 0,
      "outputs": []
    },
    {
      "cell_type": "code",
      "metadata": {
        "id": "F1kCMxLMS_x7",
        "colab_type": "code",
        "colab": {}
      },
      "source": [
        ""
      ],
      "execution_count": 0,
      "outputs": []
    }
  ]
}