{
  "nbformat": 4,
  "nbformat_minor": 0,
  "metadata": {
    "colab": {
      "name": "PHY231-Lab3-ArashNourimand",
      "provenance": []
    },
    "kernelspec": {
      "name": "python3",
      "display_name": "Python 3"
    }
  },
  "cells": [
    {
      "cell_type": "code",
      "metadata": {
        "id": "ExssUKt1bfZh",
        "colab_type": "code",
        "colab": {}
      },
      "source": [
        "#import libraries that I think I will need for the lab\n",
        "import math \n",
        "import numpy as np\n",
        "import matplotlib\n",
        "import matplotlib.pyplot as plt"
      ],
      "execution_count": 0,
      "outputs": []
    },
    {
      "cell_type": "code",
      "metadata": {
        "id": "QK4M-3e0c7b-",
        "colab_type": "code",
        "colab": {}
      },
      "source": [
        "\"\"\"\n",
        "Question 1 - generating a function to generate an array of the random walk trajectory (1D)\n",
        "Function is F(n,p,delta) where: n = number of walks, p = probability of forward trajectory, delta = step size\n",
        "\"\"\"\n",
        "def rand_walk_traj(n,p,delta):\n",
        "  i = 0 #set initial value\n",
        "  traj = np.array([]) #create an empty array to store data\n",
        "  while i<n:\n",
        "    if np.random.rand(1)<p: #if the number generated is within the positive walk threshold\n",
        "      traj = np.append(traj, delta) #append the positive walk trajectory\n",
        "    else:\n",
        "      traj = np.append(traj, -delta) #append the negative walk trajectory, since it is out of the positive walk threshold\n",
        "    i+=1\n",
        "\n",
        "  return traj"
      ],
      "execution_count": 0,
      "outputs": []
    },
    {
      "cell_type": "code",
      "metadata": {
        "id": "femgaL9wd9Mb",
        "colab_type": "code",
        "outputId": "7f84bf9a-cc30-4b1e-cf8a-9d27e1db53ea",
        "colab": {
          "base_uri": "https://localhost:8080/",
          "height": 50
        }
      },
      "source": [
        "rand_walk_traj(25,0.6,1) #shows the walk trajectories under the input conditions\n"
      ],
      "execution_count": 0,
      "outputs": [
        {
          "output_type": "execute_result",
          "data": {
            "text/plain": [
              "array([ 1., -1.,  1.,  1.,  1.,  1.,  1.,  1., -1., -1.,  1., -1.,  1.,\n",
              "       -1., -1.,  1., -1., -1.,  1.,  1.,  1.,  1., -1.,  1.,  1.])"
            ]
          },
          "metadata": {
            "tags": []
          },
          "execution_count": 5
        }
      ]
    },
    {
      "cell_type": "code",
      "metadata": {
        "id": "fGqmTHxrzWBy",
        "colab_type": "code",
        "colab": {}
      },
      "source": [
        "\"\"\" \n",
        "Question 2 - Essentially do the same code as above, but make the iterate within the array\n",
        "\"\"\"\n",
        "def rand_walk_traj_bool(n,p,delta): #same input parameters as the original\n",
        "  traj = np.random.rand(n) #create numpy array of random numbers\n",
        "  traj_prob = traj < p #if less than p, walks +, else walks -\n",
        "  traj_prob = traj_prob.astype('int')\n",
        "  traj_prob_walk = ((traj_prob*2)-1)*delta #convert to +/- 1, and multiply by delta\n",
        "\n",
        "  return traj_prob, traj_prob_walk"
      ],
      "execution_count": 0,
      "outputs": []
    },
    {
      "cell_type": "code",
      "metadata": {
        "id": "9q0VjdWZ0iCM",
        "colab_type": "code",
        "outputId": "996f0eea-a40e-4e91-a8f8-c957513814bf",
        "colab": {
          "base_uri": "https://localhost:8080/",
          "height": 84
        }
      },
      "source": [
        "#Test\n",
        "rand_walk_traj_bool(25,0.6,3)"
      ],
      "execution_count": 0,
      "outputs": [
        {
          "output_type": "execute_result",
          "data": {
            "text/plain": [
              "(array([1, 1, 1, 1, 1, 1, 1, 1, 1, 1, 0, 0, 1, 0, 0, 1, 1, 0, 1, 1, 1, 1,\n",
              "        0, 0, 1]),\n",
              " array([ 3,  3,  3,  3,  3,  3,  3,  3,  3,  3, -3, -3,  3, -3, -3,  3,  3,\n",
              "        -3,  3,  3,  3,  3, -3, -3,  3]))"
            ]
          },
          "metadata": {
            "tags": []
          },
          "execution_count": 25
        }
      ]
    },
    {
      "cell_type": "code",
      "metadata": {
        "id": "T4z7QbT32z4j",
        "colab_type": "code",
        "colab": {}
      },
      "source": [
        "\"\"\" \n",
        "Question 3 - Plot Random walks and show stochastically the <x^2> = 2Dt correlation as number of steps increase\n",
        "Goal - plot 100 different random walks with 100 steps and show the correlation\n",
        "From the lab and lecture notes, the random walk equation for distance is: <x(n)> = n*delta^2\n",
        "time = number of time steps*tau where: tau = time step value\n",
        "\"\"\"\n",
        "def mean_squared_gen(n,p,delta): #going to make a function which does the 100 iterations and yields the mean square\n",
        "  mean_squares = [] #make an empty list for the mean squares\n",
        "  timestep = [] #empty list for the time steps\n",
        "  for i in range(n):\n",
        "    trajbool, traj = rand_walk_traj_bool(i,p,delta)\n",
        "    s = math.sqrt(i*sum(traj**2)) #<x(n)^2> = n*delta^2\n",
        "    mean_squares.append(s)\n",
        "    timestep.append(i)\n",
        "  return mean_squares, timestep\n"
      ],
      "execution_count": 0,
      "outputs": []
    },
    {
      "cell_type": "code",
      "metadata": {
        "id": "oIjhzt1s39oB",
        "colab_type": "code",
        "outputId": "abf6e8bb-ae10-464b-9674-5bc89412f828",
        "colab": {
          "base_uri": "https://localhost:8080/",
          "height": 296
        }
      },
      "source": [
        "walk_distances, timevalues = mean_squared_gen(n=100,p=0.5,delta=1) #assume tau = timestep value = 1\n",
        "#walk_distances\n",
        "plt.scatter(timevalues,walk_distances)\n",
        "plt.ylabel('Mean Squared Distance from the Origin')\n",
        "plt.xlabel('Time')"
      ],
      "execution_count": 0,
      "outputs": [
        {
          "output_type": "execute_result",
          "data": {
            "text/plain": [
              "Text(0.5, 0, 'Time')"
            ]
          },
          "metadata": {
            "tags": []
          },
          "execution_count": 65
        },
        {
          "output_type": "display_data",
          "data": {
            "image/png": "[encoded data removed]",
            "text/plain": [
              "<Figure size 432x288 with 1 Axes>"
            ]
          },
          "metadata": {
            "tags": []
          }
        }
      ]
    }
  ]
}