{
  "nbformat": 4,
  "nbformat_minor": 0,
  "metadata": {
    "colab": {
      "name": "PHY231 - Lab 2_ArashNourimand",
      "provenance": []
    },
    "kernelspec": {
      "name": "python3",
      "display_name": "Python 3"
    }
  },
  "cells": [
    {
      "cell_type": "code",
      "metadata": {
        "id": "Bcd_dcD4SnZy",
        "colab_type": "code",
        "colab": {}
      },
      "source": [
        "#include the different libraries I think will be needed\n",
        "\n",
        "import math\n",
        "import numpy as np"
      ],
      "execution_count": 0,
      "outputs": []
    },
    {
      "cell_type": "code",
      "metadata": {
        "id": "Pl805AGKTKEO",
        "colab_type": "code",
        "colab": {}
      },
      "source": [
        "#Question 1 - generate 100 and 1000 draws from a uniform distribution of random numbers \n",
        "#NOTE: Uniform distribution = probability of any event in the set occuring is identical \n",
        "\n",
        "draws_hund = np.random.rand(100) #initialize an array for the 100 draws\n",
        "draws_thou = np.random.rand(1000) #initialize an array for the 100 draws\n"
      ],
      "execution_count": 0,
      "outputs": []
    },
    {
      "cell_type": "code",
      "metadata": {
        "id": "fT6sCa8-WiPY",
        "colab_type": "code",
        "outputId": "1be99c51-cb61-42e5-c2ed-e70ce77deeed",
        "colab": {
          "base_uri": "https://localhost:8080/",
          "height": 319
        }
      },
      "source": [
        "print(draws_thou.shape) #check size\n",
        "print(draws_hund) #check structure"
      ],
      "execution_count": 0,
      "outputs": [
        {
          "output_type": "stream",
          "text": [
            "(1000,)\n",
            "[0.89646361 0.77300626 0.0452829  0.85051274 0.42124536 0.42681696\n",
            " 0.25696073 0.0623135  0.22760507 0.1775646  0.60240735 0.04172504\n",
            " 0.64341157 0.88036959 0.20172683 0.11261536 0.49419773 0.8444164\n",
            " 0.44586625 0.16285989 0.20736769 0.64947541 0.28345715 0.05196103\n",
            " 0.41004314 0.4532592  0.02228669 0.56710839 0.0954235  0.12143938\n",
            " 0.2575258  0.28276334 0.53476247 0.94110035 0.13834076 0.88440643\n",
            " 0.35115165 0.97278828 0.76573526 0.72578911 0.65008888 0.80182824\n",
            " 0.2462874  0.90116007 0.08744227 0.18906191 0.08024849 0.05295664\n",
            " 0.91198668 0.35618351 0.75018872 0.29302634 0.86222516 0.07602786\n",
            " 0.26471123 0.21148814 0.63606268 0.32108004 0.2291374  0.16789755\n",
            " 0.61167012 0.99133077 0.87342359 0.04797046 0.57840055 0.33033858\n",
            " 0.28530806 0.02976797 0.44483175 0.86503199 0.92295724 0.73816638\n",
            " 0.74085971 0.33422527 0.28068191 0.26262138 0.79645261 0.65882679\n",
            " 0.175848   0.89542425 0.26999872 0.19762226 0.72321973 0.2815489\n",
            " 0.70865803 0.22631455 0.33422496 0.08201167 0.30734533 0.67913075\n",
            " 0.98992769 0.19057015 0.01649257 0.91633789 0.10189776 0.55324824\n",
            " 0.57329263 0.99710776 0.41484087 0.07363394]\n"
          ],
          "name": "stdout"
        }
      ]
    },
    {
      "cell_type": "code",
      "metadata": {
        "id": "Wy40SyW6VEZI",
        "colab_type": "code",
        "colab": {}
      },
      "source": [
        "import matplotlib\n",
        "import matplotlib.pyplot as plt"
      ],
      "execution_count": 0,
      "outputs": []
    },
    {
      "cell_type": "code",
      "metadata": {
        "id": "pcMCbe7raOyW",
        "colab_type": "code",
        "outputId": "e5f580d2-f26d-4ef4-ca86-5d13009a9ff3",
        "colab": {
          "base_uri": "https://localhost:8080/",
          "height": 369
        }
      },
      "source": [
        "fig, axs = plt.subplots(1, 2, sharey=False, tight_layout=True, figsize=(15, 5))\n",
        "\n",
        "n_bins = 20 #number of bins for the histogram; as the number of bins increases (i.e. more granular), the distribution becomes more uniform\n",
        "\n",
        "# Generating the plots with matplotlib\n",
        "axs[0].hist(draws_hund, bins=n_bins, density = False); #generate the first histogram of the subplot\n",
        "axs[1].hist(draws_thou, bins=n_bins, density = False); #generate the second histogram of the subplot\n",
        "axs[0].title.set_text('100 draws probability distribution')\n",
        "axs[1].title.set_text('1000 draws probability distribution')"
      ],
      "execution_count": 0,
      "outputs": [
        {
          "output_type": "display_data",
          "data": {
            "image/png": "[encoded data removed]",
            "text/plain": [
              "<Figure size 1080x360 with 2 Axes>"
            ]
          },
          "metadata": {
            "tags": []
          }
        }
      ]
    },
    {
      "cell_type": "code",
      "metadata": {
        "id": "ohxy3kh2hZkf",
        "colab_type": "code",
        "colab": {}
      },
      "source": [
        "#Question 2 - creating a conditional loop to control the effect of generating a 1 or a 0 (binary)\n",
        "\n",
        "def binary(p, #probability of generating a 0\n",
        "           n): #number of draws\n",
        "  body = []\n",
        "  for i in range(n):\n",
        "    if np.random.rand(1)>p:\n",
        "      body.append(1) #add a one if the RNG makes a number greater than p\n",
        "    else:\n",
        "      body.append(0) #add a zero in the other case\n",
        "  ones = sum(body) #number of ones generated\n",
        "  zeros = n-ones #number of zeros generated\n",
        "  print('The number of ones and zeros are %d and %d, respectively' %(ones, zeros))\n",
        "  return ones, zeros\n",
        "  "
      ],
      "execution_count": 0,
      "outputs": []
    },
    {
      "cell_type": "code",
      "metadata": {
        "id": "aT0vOfGsiED7",
        "colab_type": "code",
        "outputId": "05b9d5d3-99f5-4c48-affe-ba06a0336d9a",
        "colab": {
          "base_uri": "https://localhost:8080/",
          "height": 50
        }
      },
      "source": [
        "binary(0.9,10000) #test the function"
      ],
      "execution_count": 0,
      "outputs": [
        {
          "output_type": "stream",
          "text": [
            "The number of ones and zeros are 984 and 9016, respectively\n"
          ],
          "name": "stdout"
        },
        {
          "output_type": "execute_result",
          "data": {
            "text/plain": [
              "(984, 9016)"
            ]
          },
          "metadata": {
            "tags": []
          },
          "execution_count": 15
        }
      ]
    },
    {
      "cell_type": "code",
      "metadata": {
        "id": "Lz2_yk0mEn1P",
        "colab_type": "code",
        "colab": {}
      },
      "source": [
        "#Question 3 - define a function to generate the result of a coin flip, with prob of getting heads (1) or tails (0)\n",
        "\n",
        "def binarr(p, #probability of generating a 0 or tails\n",
        "           inp): #array input\n",
        "  s = inp > p #create a boolean array which indicates if values in the array inp are less than the probability of getting 0/tails\n",
        "  s = s.astype(\"int\") #convert the booleans into a 0/1 output --> if statement above is true, it's heads or 1, else: 0 or tails\n",
        "  return s\n"
      ],
      "execution_count": 0,
      "outputs": []
    },
    {
      "cell_type": "code",
      "metadata": {
        "id": "HmOXOva9OlBb",
        "colab_type": "code",
        "outputId": "24b0e890-6890-4f14-cf54-f7a593eb979b",
        "colab": {
          "base_uri": "https://localhost:8080/",
          "height": 34
        }
      },
      "source": [
        "# test out the function declared above\n",
        "test_arr = np.array([0.4, 0.5, 0.6, 0.9]) #testing array\n",
        "prob = 0.5 #probability of heads/tails are equal - fair coin\n",
        "\n",
        "binarr(prob, test_arr)"
      ],
      "execution_count": 0,
      "outputs": [
        {
          "output_type": "execute_result",
          "data": {
            "text/plain": [
              "array([0, 0, 1, 1])"
            ]
          },
          "metadata": {
            "tags": []
          },
          "execution_count": 17
        }
      ]
    },
    {
      "cell_type": "code",
      "metadata": {
        "id": "GtmGe5DhQmpQ",
        "colab_type": "code",
        "outputId": "687479df-5c0f-49f4-9c44-2fd126fe5fc1",
        "colab": {
          "base_uri": "https://localhost:8080/",
          "height": 101
        }
      },
      "source": [
        "#Question 4 - for each protein in a dividing cell, it randomly goes into a daughter cell stochastically similar to a coin flip (i.e. 50% likelihood)\n",
        "#Simulate protein partitioning for numbers of protein in the mother cell (n = 10; 100; 1000..) to show that fractional variation scales 1/sqrt(n)\n",
        "\n",
        "#mean = sum(ones*p)+sum(zeros*(1-p))\n",
        "#variance = sum(0.5*(1-mean)^2) + sum(0.5*(0-mean)^2) \n",
        "#standard deviation = sqrt(variance)\n",
        "#fractional variance = mean/standard deviation; should approximate 1/sqrt(n), and thus should approach zero as trials, n,  increase\n",
        "protein_num = [10,100,1000,10000,100000]\n",
        "\n",
        "#create lists for statistical variables\n",
        "means = []\n",
        "true_means = []\n",
        "st_dev = []\n",
        "variance = []\n",
        "true_var = []\n",
        "true_stdev = []\n",
        "frac_var = [] \n",
        "true_fv = [] #true fractional variance is always 1/sqrt(n)\n",
        "\n",
        "for i in range(len(protein_num)):\n",
        "  ones, zeros = binary(0.5, protein_num[i])\n",
        "  \n",
        "  mean = 1*ones #mean calculation\n",
        "  true_mean = protein_num[i]*0.5 #u = np; true expected mean formula\n",
        "  means.append(mean) #add mean to the list\n",
        "  true_means.append(true_mean) #add true mean to list for comparison\n",
        "  \n",
        "  var = ones*(0.5*((1-mean)**2))+zeros*(0.5*(mean**2)) #variance calculation\n",
        "  variance.append(var) #adding the variance to the list\n",
        "  stddev = math.sqrt(var) #standard deviation calculation\n",
        "  st_dev.append(stddev) #adding standard deviation to list\n",
        "\n",
        "  true_variance = protein_num[i]*0.5**2 #calculate expected population variance\n",
        "  true_stndev = math.sqrt(true_variance) #calculate expected population standard deviation\n",
        "  true_var.append(true_variance) #append to list\n",
        "  true_stdev.append(true_stndev) #append to list\n",
        "\n",
        "  frac_var.append(mean/stddev) #append to list\n",
        "  true_fv.append(1/math.sqrt(protein_num[i]))\n",
        "  "
      ],
      "execution_count": 0,
      "outputs": [
        {
          "output_type": "stream",
          "text": [
            "The number of ones and zeros are 6 and 4, respectively\n",
            "The number of ones and zeros are 46 and 54, respectively\n",
            "The number of ones and zeros are 485 and 515, respectively\n",
            "The number of ones and zeros are 5025 and 4975, respectively\n",
            "The number of ones and zeros are 49842 and 50158, respectively\n"
          ],
          "name": "stdout"
        }
      ]
    },
    {
      "cell_type": "code",
      "metadata": {
        "id": "9hM0NOkMSpyP",
        "colab_type": "code",
        "outputId": "8116aaee-8256-43b4-e58d-2212159b31fe",
        "colab": {
          "base_uri": "https://localhost:8080/",
          "height": 84
        }
      },
      "source": [
        "#Look at the data from the random stats\n",
        "print(means)\n",
        "print(variance)\n",
        "print(st_dev)\n",
        "print(frac_var)"
      ],
      "execution_count": 0,
      "outputs": [
        {
          "output_type": "stream",
          "text": [
            "[6, 46, 485, 5025, 49842]\n",
            "[147.0, 103707.0, 117377517.5, 126227876887.5, 124208763999957.0]\n",
            "[12.12435565298214, 322.03571230532805, 10834.090524820254, 355285.62718958955, 11144898.563915106]\n",
            "[0.4948716593053935, 0.1428413006455214, 0.044766101860501714, 0.014143549908700728, 0.004472180676581316]\n"
          ],
          "name": "stdout"
        }
      ]
    },
    {
      "cell_type": "code",
      "metadata": {
        "id": "9f3X8bRx4MF9",
        "colab_type": "code",
        "outputId": "2cd54354-944b-4782-cc8f-98228aa249dc",
        "colab": {
          "base_uri": "https://localhost:8080/",
          "height": 84
        }
      },
      "source": [
        "#Look at the expected data\n",
        "print(true_means)\n",
        "print(true_var)\n",
        "print(true_stdev)\n",
        "print(true_fv)"
      ],
      "execution_count": 0,
      "outputs": [
        {
          "output_type": "stream",
          "text": [
            "[5.0, 50.0, 500.0, 5000.0, 50000.0]\n",
            "[2.5, 25.0, 250.0, 2500.0, 25000.0]\n",
            "[1.5811388300841898, 5.0, 15.811388300841896, 50.0, 158.11388300841898]\n",
            "[0.31622776601683794, 0.1, 0.03162277660168379, 0.01, 0.003162277660168379]\n"
          ],
          "name": "stdout"
        }
      ]
    },
    {
      "cell_type": "code",
      "metadata": {
        "id": "-is-Epf666JN",
        "colab_type": "code",
        "outputId": "0fc5fd7d-0d4c-44ca-aaca-7ae355593fc3",
        "colab": {
          "base_uri": "https://localhost:8080/",
          "height": 316
        }
      },
      "source": [
        "# Plot the fractional variance curves\n",
        "\n",
        "plt.semilogx(protein_num, true_fv, label='True Fractional Variance')\n",
        "plt.semilogx(protein_num, frac_var, label='Experiment Fractional Variance')\n",
        "plt.title('Fractional Variance of Protein Expression as Number of Original Proteins Increase')\n",
        "plt.xlabel('Number of proteins)')\n",
        "plt.ylabel('Fractional Variation')\n",
        "plt.legend()\n"
      ],
      "execution_count": 0,
      "outputs": [
        {
          "output_type": "execute_result",
          "data": {
            "text/plain": [
              "<matplotlib.legend.Legend at 0x7f279de34ef0>"
            ]
          },
          "metadata": {
            "tags": []
          },
          "execution_count": 54
        },
        {
          "output_type": "display_data",
          "data": {
            "image/png": "[encoded data removed]",
            "text/plain": [
              "<Figure size 432x288 with 1 Axes>"
            ]
          },
          "metadata": {
            "tags": []
          }
        }
      ]
    }
  ]
}