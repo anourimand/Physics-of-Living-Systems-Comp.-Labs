{
  "nbformat": 4,
  "nbformat_minor": 0,
  "metadata": {
    "colab": {
      "name": "PHY231 - Lab 1_ArashNourimand",
      "provenance": []
    },
    "kernelspec": {
      "name": "python3",
      "display_name": "Python 3"
    }
  },
  "cells": [
    {
      "cell_type": "markdown",
      "metadata": {
        "id": "2chyzvjibtIz",
        "colab_type": "text"
      },
      "source": [
        "# Arash Nourimand, Tutorial/Lab 0101\n",
        "Link to the Colab Document: https://colab.research.google.com/drive/1xf1fEIuTsT_30jZpqZVArZbHgTCIU_2_ \n",
        "\n",
        "###Base Formula\n",
        "p(k;n,p) = ((n!)(p^k)(q^(n-k)))/(k!(n-k)!)\n",
        "- k = number of events\n",
        "- n = number of trials\n",
        "- p = probability of event happening\n",
        "- q = probability of event not happening"
      ]
    },
    {
      "cell_type": "code",
      "metadata": {
        "id": "5mJls8HmcSlI",
        "colab_type": "code",
        "outputId": "0c7d6d61-a897-46e2-82fc-cea928e1ded4",
        "colab": {
          "base_uri": "https://localhost:8080/",
          "height": 70
        }
      },
      "source": [
        "# Question 1\n",
        "\n",
        "# importing math\n",
        "import math\n",
        "\n",
        "#declaration of variables\n",
        "p_list = [0.5, 0.5, 0.3] #probability of heads list\n",
        "q_list = [0.5, 0.5, 0.7] #probability of tails list\n",
        "n = 10 #number of coin flips\n",
        "k_list = [1, 9, 5] #number of times that head is gotten list\n",
        "\n",
        "for i in range(3):\n",
        "  p = p_list[i]\n",
        "  q = q_list[i]\n",
        "  k = k_list[i]\n",
        "  n_fac = math.factorial(n) #n!\n",
        "  k_fac = math.factorial(k) #k!\n",
        "  nk_fac = math.factorial(n-k) #(n-k)!\n",
        "\n",
        "  # the equation for calculating\n",
        "  P = ((n_fac)*(p**k)*(q**(n-k)))/(k_fac*nk_fac)\n",
        "  print('probability of getting %d heads for %d flips is %f' %(k,n,P))"
      ],
      "execution_count": 0,
      "outputs": [
        {
          "output_type": "stream",
          "text": [
            "probability of getting 1 heads for 10 flips is 0.009766\n",
            "probability of getting 9 heads for 10 flips is 0.009766\n",
            "probability of getting 5 heads for 10 flips is 0.102919\n"
          ],
          "name": "stdout"
        }
      ]
    },
    {
      "cell_type": "code",
      "metadata": {
        "id": "4Edb4ZKGhWmd",
        "colab_type": "code",
        "colab": {}
      },
      "source": [
        "#Function for the coin flips\n",
        "\n",
        "def coin_flip(N, #number of trial\n",
        "              K, #number of events\n",
        "              P): #probability of event\n",
        "  n = int(N)\n",
        "  k = int(K)\n",
        "  p = float(P)\n",
        "  q = 1-p #probability of not happening\n",
        "  n_fac = math.factorial(n) #n!\n",
        "  k_fac = math.factorial(k) #k!\n",
        "  nk_fac = math.factorial(n-k) #(n-k)!\n",
        "  Prob = ((n_fac)*(p**k)*(q**(n-k)))/(k_fac*nk_fac)\n",
        "  return Prob"
      ],
      "execution_count": 0,
      "outputs": []
    },
    {
      "cell_type": "code",
      "metadata": {
        "id": "BEgC3yc_kSWJ",
        "colab_type": "code",
        "outputId": "5e952647-9381-4203-f623-6cf447823809",
        "colab": {
          "base_uri": "https://localhost:8080/",
          "height": 159
        }
      },
      "source": [
        "#Question 2 - Interactive Script\n",
        "print('Input the number of trials - n')\n",
        "N = input()\n",
        "print('Input the probability of the event happening - p')\n",
        "P = input()\n",
        "print('Input the number of times the event occurs - k')\n",
        "K = input()\n",
        "print('The probability of the event happening %d times over %d trials is: ' %(int(K),int(N)))\n",
        "coin_flip(N,K,P)"
      ],
      "execution_count": 0,
      "outputs": [
        {
          "output_type": "stream",
          "text": [
            "Input the number of trials - n\n",
            "10\n",
            "Input the probability of the event happening - p\n",
            "0.3\n",
            "Input the number of times the event occurs - k\n",
            "5\n",
            "The probability of the event happening 5 times over 10 trials is: \n"
          ],
          "name": "stdout"
        },
        {
          "output_type": "execute_result",
          "data": {
            "text/plain": [
              "0.10291934519999994"
            ]
          },
          "metadata": {
            "tags": []
          },
          "execution_count": 37
        }
      ]
    },
    {
      "cell_type": "code",
      "metadata": {
        "id": "rGSbUtZyloPf",
        "colab_type": "code",
        "colab": {}
      },
      "source": [
        "#Question 3 - binomial distribution calculation\n",
        "\n",
        "#import graphing libraries\n",
        "import matplotlib\n",
        "import matplotlib.pyplot as plt \n",
        "\n",
        "N = 10 #constant parameter\n",
        "bin_fair = [] #list for the probabilities of the binomial distribution for fair coin\n",
        "bin_unfair = [] #list for the probabilities of the binomial distribution for unfair coin\n",
        "K = [] #make a list for the number of event occurences\n",
        "\n",
        "for i in range(11):\n",
        "  K.append(i)\n",
        "  bin_fair.append(coin_flip(N,i,0.5))\n",
        "  bin_unfair.append(coin_flip(N,i,0.3))"
      ],
      "execution_count": 0,
      "outputs": []
    },
    {
      "cell_type": "code",
      "metadata": {
        "id": "DeTnv7gpola3",
        "colab_type": "code",
        "outputId": "837ca2f8-7450-4fe2-cab8-4810c48d26e2",
        "colab": {
          "base_uri": "https://localhost:8080/",
          "height": 639
        }
      },
      "source": [
        "import numpy as np\n",
        "\n",
        "fig = plt.figure(figsize = (15,10))\n",
        "width = 0.4\n",
        "ind = np.array(K)\n",
        "ax = fig.add_subplot(111)\n",
        "ax.bar(ind, bin_fair, width, align = 'center',alpha=1, color = 'crimson', label='p = 0.5')\n",
        "ax.bar(ind+width, bin_unfair, width, align = 'center',alpha=1, color = 'darkviolet', label='p = 0.3')\n",
        "plt.xticks(K)\n",
        "plt.ylabel('Probaility of Occurance')\n",
        "plt.xlabel('Number of heads occuring')\n",
        "plt.title('Coin Flip Binomial Distribution')\n",
        "plt.legend()\n",
        "plt.show\n"
      ],
      "execution_count": 0,
      "outputs": [
        {
          "output_type": "execute_result",
          "data": {
            "text/plain": [
              "<function matplotlib.pyplot.show>"
            ]
          },
          "metadata": {
            "tags": []
          },
          "execution_count": 97
        },
        {
          "output_type": "display_data",
          "data": {
            "image/png": "[encoded data removed]",
            "text/plain": [
              "<Figure size 1080x720 with 1 Axes>"
            ]
          },
          "metadata": {
            "tags": []
          }
        }
      ]
    }
  ]
}